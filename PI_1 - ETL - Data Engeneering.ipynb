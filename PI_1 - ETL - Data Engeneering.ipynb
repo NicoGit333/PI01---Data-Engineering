{
 "cells": [
  {
   "cell_type": "code",
   "execution_count": 1,
   "metadata": {},
   "outputs": [],
   "source": [
    "import pandas as pd\n",
    "import numpy as np "
   ]
  },
  {
   "cell_type": "code",
   "execution_count": 6,
   "metadata": {},
   "outputs": [],
   "source": [
    "url_amazon = 'https://raw.githubusercontent.com/HX-FAshur/PI01_DATA05/main/Datasets/amazon_prime_titles.csv'\n",
    "url_netflix = 'https://raw.githubusercontent.com/HX-FAshur/PI01_DATA05/main/Datasets/netflix_titles.json'\n",
    "url_disney = 'https://raw.githubusercontent.com/HX-FAshur/PI01_DATA05/main/Datasets/disney_plus_titles.csv'\n",
    "url_hulu = 'https://raw.githubusercontent.com/HX-FAshur/PI01_DATA05/main/Datasets/hulu_titles.csv'"
   ]
  },
  {
   "cell_type": "code",
   "execution_count": 7,
   "metadata": {},
   "outputs": [],
   "source": [
    "amazon = pd.read_csv(url_amazon)\n",
    "netflix = pd.read_json(url_netflix)\n",
    "disney = pd.read_csv(url_disney)\n",
    "hulu = pd.read_csv(url_hulu)"
   ]
  },
  {
   "cell_type": "code",
   "execution_count": 8,
   "metadata": {},
   "outputs": [],
   "source": [
    "amazon['plataforma'] = 'amazon'             # Establecemos el id para cada plataforma\n",
    "amazon['id'] = 'a' + amazon['show_id']\n",
    "netflix['plataforma'] = 'netflix'\n",
    "netflix['id'] = 'n' + netflix['show_id']\n",
    "disney['plataforma'] = 'disney'\n",
    "disney['id'] = 'd' + disney['show_id']\n",
    "hulu['plataforma'] = 'hulu'\n",
    "hulu['id'] = 'h' + hulu['show_id']"
   ]
  },
  {
   "cell_type": "code",
   "execution_count": null,
   "metadata": {},
   "outputs": [],
   "source": [
    "amazon['date_added'] = amazon['date_added'].str.lstrip()\n",
    "amazon['date_added'] = amazon['date_added'].str.rstrip()\n",
    "amazon['date_added'] = pd.to_datetime(amazon['date_added'], format= '%AAAA-%mm-%dd')"
   ]
  },
  {
   "cell_type": "code",
   "execution_count": 15,
   "metadata": {},
   "outputs": [],
   "source": [
    "separacion_amazon = amazon['duration'].str.split(' ', n=1, expand=True)    # Separamos el tipo de duracion de cada plataforma\n",
    "separacion_netflix = netflix['duration'].str.split(' ', n=1, expand=True)\n",
    "separacion_disney = disney['duration'].str.split(' ', n=1, expand=True)\n",
    "separacion_hulu = hulu['duration'].str.split(' ', n=1, expand=True)\n",
    "amazon['duration_int'] = separacion_amazon[0]\n",
    "amazon['duration_type'] = separacion_amazon[1]\n",
    "\n",
    "netflix['duration_int'] = separacion_netflix[0]\n",
    "netflix['duration_type'] = separacion_netflix[1]\n",
    "\n",
    "disney['duration_int'] = separacion_disney[0]\n",
    "disney['duration_type'] = separacion_disney[1]\n",
    "\n",
    "hulu['duration_int'] = separacion_hulu[0]\n",
    "hulu['duration_type'] = separacion_hulu[1]"
   ]
  },
  {
   "cell_type": "code",
   "execution_count": 16,
   "metadata": {},
   "outputs": [],
   "source": [
    "data = pd.concat([amazon, netflix, disney, hulu]) #Concatenamos todos los DF para tenerlos en una sola tabla "
   ]
  },
  {
   "cell_type": "code",
   "execution_count": 19,
   "metadata": {},
   "outputs": [],
   "source": [
    "data['show_id'] = data['show_id'].str.lower()    # Ponemos todo en minuscula para una mayor comprension\n",
    "data['type'] = data['type'].str.lower()\n",
    "data['title'] = data['title'].str.lower()\n",
    "data['director'] = data['director'].str.lower()\n",
    "data['cast'] = data['cast'].str.lower()\n",
    "data['country'] = data['country'].str.lower()\n",
    "data['rating'] = data['rating'].str.lower()\n",
    "data['duration'] = data['duration'].str.lower()\n",
    "data['listed_in'] = data['listed_in'].str.lower()\n",
    "data['description'] = data['description'].str.lower()\n",
    "data['plataforma'] = data['plataforma'].str.lower()\n",
    "data['id'] = data['id'].str.lower()\n",
    "data['duration_type'] = data['duration_type'].str.lower()"
   ]
  },
  {
   "cell_type": "code",
   "execution_count": 20,
   "metadata": {},
   "outputs": [],
   "source": [
    "data.to_csv('df_data.csv', index=False)"
   ]
  }
 ],
 "metadata": {
  "kernelspec": {
   "display_name": "Python 3.10.5 64-bit",
   "language": "python",
   "name": "python3"
  },
  "language_info": {
   "codemirror_mode": {
    "name": "ipython",
    "version": 3
   },
   "file_extension": ".py",
   "mimetype": "text/x-python",
   "name": "python",
   "nbconvert_exporter": "python",
   "pygments_lexer": "ipython3",
   "version": "3.10.5"
  },
  "orig_nbformat": 4,
  "vscode": {
   "interpreter": {
    "hash": "ab238bbf63de094432c0d8aa4e8da5df7baef3b45281cca63ff78dcb30ea1a23"
   }
  }
 },
 "nbformat": 4,
 "nbformat_minor": 2
}
